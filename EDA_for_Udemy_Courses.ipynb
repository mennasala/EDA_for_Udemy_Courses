{
 "cells": [
  {
   "cell_type": "code",
   "execution_count": 3,
   "metadata": {},
   "outputs": [],
   "source": [
    "from pandas import *\n",
    "Udemy_Courses=read_csv(\"E:\\\\Data Analysis\\\\projects\\\\EDA\\\\Udemy_Courses.csv\")"
   ]
  },
  {
   "cell_type": "code",
   "execution_count": 4,
   "metadata": {},
   "outputs": [
    {
     "name": "stdout",
     "output_type": "stream",
     "text": [
      "<class 'pandas.core.frame.DataFrame'>\n",
      "RangeIndex: 3682 entries, 0 to 3681\n",
      "Data columns (total 11 columns):\n",
      " #   Column               Non-Null Count  Dtype \n",
      "---  ------               --------------  ----- \n",
      " 0   course_id            3682 non-null   int64 \n",
      " 1   course_title         3682 non-null   object\n",
      " 2   is_paid              3682 non-null   bool  \n",
      " 3   price                3682 non-null   object\n",
      " 4   num_subscribers      3682 non-null   int64 \n",
      " 5   num_reviews          3682 non-null   int64 \n",
      " 6   num_lectures         3682 non-null   int64 \n",
      " 7   level                3682 non-null   object\n",
      " 8   content_duration     3682 non-null   object\n",
      " 9   published_timestamp  3682 non-null   object\n",
      " 10  subject              3682 non-null   object\n",
      "dtypes: bool(1), int64(4), object(6)\n",
      "memory usage: 291.4+ KB\n"
     ]
    }
   ],
   "source": [
    "#Explore the data and get some information\n",
    "Udemy_Courses.info()"
   ]
  },
  {
   "cell_type": "code",
   "execution_count": 5,
   "metadata": {},
   "outputs": [
    {
     "data": {
      "text/html": [
       "<div>\n",
       "<style scoped>\n",
       "    .dataframe tbody tr th:only-of-type {\n",
       "        vertical-align: middle;\n",
       "    }\n",
       "\n",
       "    .dataframe tbody tr th {\n",
       "        vertical-align: top;\n",
       "    }\n",
       "\n",
       "    .dataframe thead th {\n",
       "        text-align: right;\n",
       "    }\n",
       "</style>\n",
       "<table border=\"1\" class=\"dataframe\">\n",
       "  <thead>\n",
       "    <tr style=\"text-align: right;\">\n",
       "      <th></th>\n",
       "      <th>course_id</th>\n",
       "      <th>course_title</th>\n",
       "      <th>is_paid</th>\n",
       "      <th>price</th>\n",
       "      <th>num_subscribers</th>\n",
       "      <th>num_reviews</th>\n",
       "      <th>num_lectures</th>\n",
       "      <th>level</th>\n",
       "      <th>content_duration</th>\n",
       "      <th>published_timestamp</th>\n",
       "      <th>subject</th>\n",
       "    </tr>\n",
       "  </thead>\n",
       "  <tbody>\n",
       "    <tr>\n",
       "      <th>0</th>\n",
       "      <td>288942</td>\n",
       "      <td>#1 Piano Hand Coordination: Play 10th Ballad i...</td>\n",
       "      <td>True</td>\n",
       "      <td>35</td>\n",
       "      <td>3137</td>\n",
       "      <td>18</td>\n",
       "      <td>68</td>\n",
       "      <td>All Levels</td>\n",
       "      <td>1.5 hours</td>\n",
       "      <td>2014-09-18T05:07:05Z</td>\n",
       "      <td>Musical Instruments</td>\n",
       "    </tr>\n",
       "    <tr>\n",
       "      <th>1</th>\n",
       "      <td>1170074</td>\n",
       "      <td>#10 Hand Coordination - Transfer Chord Ballad ...</td>\n",
       "      <td>True</td>\n",
       "      <td>75</td>\n",
       "      <td>1593</td>\n",
       "      <td>1</td>\n",
       "      <td>41</td>\n",
       "      <td>Intermediate Level</td>\n",
       "      <td>1 hour</td>\n",
       "      <td>2017-04-12T19:06:34Z</td>\n",
       "      <td>Musical Instruments</td>\n",
       "    </tr>\n",
       "    <tr>\n",
       "      <th>2</th>\n",
       "      <td>1193886</td>\n",
       "      <td>#12 Hand Coordination: Let your Hands dance wi...</td>\n",
       "      <td>True</td>\n",
       "      <td>75</td>\n",
       "      <td>482</td>\n",
       "      <td>1</td>\n",
       "      <td>47</td>\n",
       "      <td>Intermediate Level</td>\n",
       "      <td>1.5 hours</td>\n",
       "      <td>2017-04-26T18:34:57Z</td>\n",
       "      <td>Musical Instruments</td>\n",
       "    </tr>\n",
       "    <tr>\n",
       "      <th>3</th>\n",
       "      <td>1116700</td>\n",
       "      <td>#4 Piano Hand Coordination: Fun Piano Runs in ...</td>\n",
       "      <td>True</td>\n",
       "      <td>75</td>\n",
       "      <td>850</td>\n",
       "      <td>3</td>\n",
       "      <td>43</td>\n",
       "      <td>Intermediate Level</td>\n",
       "      <td>1 hour</td>\n",
       "      <td>2017-02-21T23:48:18Z</td>\n",
       "      <td>Musical Instruments</td>\n",
       "    </tr>\n",
       "    <tr>\n",
       "      <th>4</th>\n",
       "      <td>1120410</td>\n",
       "      <td>#5  Piano Hand Coordination:  Piano Runs in 2 ...</td>\n",
       "      <td>True</td>\n",
       "      <td>75</td>\n",
       "      <td>940</td>\n",
       "      <td>3</td>\n",
       "      <td>32</td>\n",
       "      <td>Intermediate Level</td>\n",
       "      <td>37 mins</td>\n",
       "      <td>2017-02-21T23:44:49Z</td>\n",
       "      <td>Musical Instruments</td>\n",
       "    </tr>\n",
       "  </tbody>\n",
       "</table>\n",
       "</div>"
      ],
      "text/plain": [
       "   course_id                                       course_title  is_paid  \\\n",
       "0     288942  #1 Piano Hand Coordination: Play 10th Ballad i...     True   \n",
       "1    1170074  #10 Hand Coordination - Transfer Chord Ballad ...     True   \n",
       "2    1193886  #12 Hand Coordination: Let your Hands dance wi...     True   \n",
       "3    1116700  #4 Piano Hand Coordination: Fun Piano Runs in ...     True   \n",
       "4    1120410  #5  Piano Hand Coordination:  Piano Runs in 2 ...     True   \n",
       "\n",
       "  price  num_subscribers  num_reviews  num_lectures               level  \\\n",
       "0    35             3137           18            68          All Levels   \n",
       "1    75             1593            1            41  Intermediate Level   \n",
       "2    75              482            1            47  Intermediate Level   \n",
       "3    75              850            3            43  Intermediate Level   \n",
       "4    75              940            3            32  Intermediate Level   \n",
       "\n",
       "  content_duration   published_timestamp              subject  \n",
       "0        1.5 hours  2014-09-18T05:07:05Z  Musical Instruments  \n",
       "1           1 hour  2017-04-12T19:06:34Z  Musical Instruments  \n",
       "2        1.5 hours  2017-04-26T18:34:57Z  Musical Instruments  \n",
       "3           1 hour  2017-02-21T23:48:18Z  Musical Instruments  \n",
       "4          37 mins  2017-02-21T23:44:49Z  Musical Instruments  "
      ]
     },
     "execution_count": 5,
     "metadata": {},
     "output_type": "execute_result"
    }
   ],
   "source": [
    "# Explore first 5 rows\n",
    "Udemy_Courses.head()"
   ]
  },
  {
   "cell_type": "code",
   "execution_count": 12,
   "metadata": {},
   "outputs": [
    {
     "data": {
      "text/plain": [
       "False"
      ]
     },
     "execution_count": 12,
     "metadata": {},
     "output_type": "execute_result"
    }
   ],
   "source": [
    "#checking for Duplicates\n",
    "Udemy_Courses.duplicated().all()"
   ]
  },
  {
   "cell_type": "code",
   "execution_count": 10,
   "metadata": {},
   "outputs": [
    {
     "data": {
      "text/plain": [
       "course_id              0\n",
       "course_title           0\n",
       "is_paid                0\n",
       "price                  0\n",
       "num_subscribers        0\n",
       "num_reviews            0\n",
       "num_lectures           0\n",
       "level                  0\n",
       "content_duration       0\n",
       "published_timestamp    0\n",
       "subject                0\n",
       "dtype: int64"
      ]
     },
     "execution_count": 10,
     "metadata": {},
     "output_type": "execute_result"
    }
   ],
   "source": [
    "#checking for null values\n",
    "Udemy_Courses.isnull().sum()"
   ]
  },
  {
   "cell_type": "code",
   "execution_count": 15,
   "metadata": {},
   "outputs": [
    {
     "name": "stdout",
     "output_type": "stream",
     "text": [
      "0      2014-09-18 05:07:05+00:00\n",
      "1      2017-04-12 19:06:34+00:00\n",
      "2      2017-04-26 18:34:57+00:00\n",
      "3      2017-02-21 23:48:18+00:00\n",
      "4      2017-02-21 23:44:49+00:00\n",
      "                  ...           \n",
      "3677   2015-04-20 22:15:17+00:00\n",
      "3678   2015-10-26 20:04:21+00:00\n",
      "3679   2015-11-11 18:55:45+00:00\n",
      "3680   2017-05-26 16:45:55+00:00\n",
      "3681   2016-09-26 22:19:48+00:00\n",
      "Name: published_timestamp, Length: 3682, dtype: datetime64[ns, UTC]\n"
     ]
    }
   ],
   "source": [
    "#transform Udemy_Courses['published_timestamp'] from string to data time\n",
    "Udemy_Courses['published_timestamp']=to_datetime(Udemy_Courses['published_timestamp'])\n",
    "print(Udemy_Courses['published_timestamp'])"
   ]
  },
  {
   "cell_type": "code",
   "execution_count": 19,
   "metadata": {},
   "outputs": [],
   "source": [
    "#create new column with the year values only to answer related questions\n",
    "Udemy_Courses['year']=Udemy_Courses['published_timestamp'].dt.year "
   ]
  },
  {
   "cell_type": "code",
   "execution_count": 31,
   "metadata": {},
   "outputs": [
    {
     "name": "stdout",
     "output_type": "stream",
     "text": [
      "0        35\n",
      "1        75\n",
      "2        75\n",
      "3        75\n",
      "4        75\n",
      "       ... \n",
      "3677    120\n",
      "3678     70\n",
      "3679     40\n",
      "3680      0\n",
      "3681     50\n",
      "Name: price, Length: 3682, dtype: int64\n"
     ]
    }
   ],
   "source": [
    "#transform price data type from string to in \n",
    "#first replace free values with 0\n",
    "Udemy_Courses.replace({'Free':0},inplace=True)\n",
    "#second transform to int \n",
    "Udemy_Courses['price']=to_numeric(Udemy_Courses['price'])\n",
    "print(Udemy_Courses['price'])"
   ]
  },
  {
   "cell_type": "code",
   "execution_count": 32,
   "metadata": {},
   "outputs": [
    {
     "name": "stdout",
     "output_type": "stream",
     "text": [
      "<class 'pandas.core.frame.DataFrame'>\n",
      "RangeIndex: 3682 entries, 0 to 3681\n",
      "Data columns (total 12 columns):\n",
      " #   Column               Non-Null Count  Dtype              \n",
      "---  ------               --------------  -----              \n",
      " 0   course_id            3682 non-null   int64              \n",
      " 1   course_title         3682 non-null   object             \n",
      " 2   is_paid              3682 non-null   bool               \n",
      " 3   price                3682 non-null   int64              \n",
      " 4   num_subscribers      3682 non-null   int64              \n",
      " 5   num_reviews          3682 non-null   int64              \n",
      " 6   num_lectures         3682 non-null   int64              \n",
      " 7   level                3682 non-null   object             \n",
      " 8   content_duration     3682 non-null   object             \n",
      " 9   published_timestamp  3682 non-null   datetime64[ns, UTC]\n",
      " 10  subject              3682 non-null   object             \n",
      " 11  year                 3682 non-null   int64              \n",
      "dtypes: bool(1), datetime64[ns, UTC](1), int64(6), object(4)\n",
      "memory usage: 320.1+ KB\n"
     ]
    }
   ],
   "source": [
    "#check for final result\n",
    "Udemy_Courses.info()"
   ]
  },
  {
   "cell_type": "code",
   "execution_count": 34,
   "metadata": {},
   "outputs": [
    {
     "data": {
      "text/html": [
       "<div>\n",
       "<style scoped>\n",
       "    .dataframe tbody tr th:only-of-type {\n",
       "        vertical-align: middle;\n",
       "    }\n",
       "\n",
       "    .dataframe tbody tr th {\n",
       "        vertical-align: top;\n",
       "    }\n",
       "\n",
       "    .dataframe thead th {\n",
       "        text-align: right;\n",
       "    }\n",
       "</style>\n",
       "<table border=\"1\" class=\"dataframe\">\n",
       "  <thead>\n",
       "    <tr style=\"text-align: right;\">\n",
       "      <th></th>\n",
       "      <th>course_id</th>\n",
       "      <th>price</th>\n",
       "      <th>num_subscribers</th>\n",
       "      <th>num_reviews</th>\n",
       "      <th>num_lectures</th>\n",
       "      <th>year</th>\n",
       "    </tr>\n",
       "  </thead>\n",
       "  <tbody>\n",
       "    <tr>\n",
       "      <th>count</th>\n",
       "      <td>3.682000e+03</td>\n",
       "      <td>3682.000000</td>\n",
       "      <td>3682.000000</td>\n",
       "      <td>3682.000000</td>\n",
       "      <td>3682.000000</td>\n",
       "      <td>3682.000000</td>\n",
       "    </tr>\n",
       "    <tr>\n",
       "      <th>mean</th>\n",
       "      <td>6.766121e+05</td>\n",
       "      <td>66.010320</td>\n",
       "      <td>3194.230310</td>\n",
       "      <td>156.093156</td>\n",
       "      <td>40.065182</td>\n",
       "      <td>2015.432917</td>\n",
       "    </tr>\n",
       "    <tr>\n",
       "      <th>std</th>\n",
       "      <td>3.436355e+05</td>\n",
       "      <td>60.984167</td>\n",
       "      <td>9499.378361</td>\n",
       "      <td>934.957204</td>\n",
       "      <td>50.373299</td>\n",
       "      <td>1.185800</td>\n",
       "    </tr>\n",
       "    <tr>\n",
       "      <th>min</th>\n",
       "      <td>8.324000e+03</td>\n",
       "      <td>0.000000</td>\n",
       "      <td>0.000000</td>\n",
       "      <td>0.000000</td>\n",
       "      <td>0.000000</td>\n",
       "      <td>2011.000000</td>\n",
       "    </tr>\n",
       "    <tr>\n",
       "      <th>25%</th>\n",
       "      <td>4.078430e+05</td>\n",
       "      <td>20.000000</td>\n",
       "      <td>110.250000</td>\n",
       "      <td>4.000000</td>\n",
       "      <td>15.000000</td>\n",
       "      <td>2015.000000</td>\n",
       "    </tr>\n",
       "    <tr>\n",
       "      <th>50%</th>\n",
       "      <td>6.885580e+05</td>\n",
       "      <td>45.000000</td>\n",
       "      <td>911.500000</td>\n",
       "      <td>18.000000</td>\n",
       "      <td>25.000000</td>\n",
       "      <td>2016.000000</td>\n",
       "    </tr>\n",
       "    <tr>\n",
       "      <th>75%</th>\n",
       "      <td>9.617515e+05</td>\n",
       "      <td>95.000000</td>\n",
       "      <td>2540.250000</td>\n",
       "      <td>67.000000</td>\n",
       "      <td>45.000000</td>\n",
       "      <td>2016.000000</td>\n",
       "    </tr>\n",
       "    <tr>\n",
       "      <th>max</th>\n",
       "      <td>1.282064e+06</td>\n",
       "      <td>200.000000</td>\n",
       "      <td>268923.000000</td>\n",
       "      <td>27445.000000</td>\n",
       "      <td>779.000000</td>\n",
       "      <td>2017.000000</td>\n",
       "    </tr>\n",
       "  </tbody>\n",
       "</table>\n",
       "</div>"
      ],
      "text/plain": [
       "          course_id        price  num_subscribers   num_reviews  num_lectures  \\\n",
       "count  3.682000e+03  3682.000000      3682.000000   3682.000000   3682.000000   \n",
       "mean   6.766121e+05    66.010320      3194.230310    156.093156     40.065182   \n",
       "std    3.436355e+05    60.984167      9499.378361    934.957204     50.373299   \n",
       "min    8.324000e+03     0.000000         0.000000      0.000000      0.000000   \n",
       "25%    4.078430e+05    20.000000       110.250000      4.000000     15.000000   \n",
       "50%    6.885580e+05    45.000000       911.500000     18.000000     25.000000   \n",
       "75%    9.617515e+05    95.000000      2540.250000     67.000000     45.000000   \n",
       "max    1.282064e+06   200.000000    268923.000000  27445.000000    779.000000   \n",
       "\n",
       "              year  \n",
       "count  3682.000000  \n",
       "mean   2015.432917  \n",
       "std       1.185800  \n",
       "min    2011.000000  \n",
       "25%    2015.000000  \n",
       "50%    2016.000000  \n",
       "75%    2016.000000  \n",
       "max    2017.000000  "
      ]
     },
     "execution_count": 34,
     "metadata": {},
     "output_type": "execute_result"
    }
   ],
   "source": [
    "#Let’s start out Exploratoy Data Analysis Journey \n",
    "Udemy_Courses.describe()"
   ]
  },
  {
   "cell_type": "code",
   "execution_count": 41,
   "metadata": {},
   "outputs": [
    {
     "data": {
      "text/plain": [
       "(array([3.623e+03, 3.400e+01, 1.600e+01, 4.000e+00, 3.000e+00, 1.000e+00,\n",
       "        0.000e+00, 0.000e+00, 0.000e+00, 1.000e+00]),\n",
       " array([     0. ,  26892.3,  53784.6,  80676.9, 107569.2, 134461.5,\n",
       "        161353.8, 188246.1, 215138.4, 242030.7, 268923. ]),\n",
       " <BarContainer object of 10 artists>)"
      ]
     },
     "execution_count": 41,
     "metadata": {},
     "output_type": "execute_result"
    },
    {
     "data": {
      "image/png": "[encoded data removed]",
      "text/plain": [
       "<Figure size 432x288 with 1 Axes>"
      ]
     },
     "metadata": {
      "needs_background": "light"
     },
     "output_type": "display_data"
    }
   ],
   "source": [
    "#do some visualization \n",
    "import matplotlib.pyplot as plt\n",
    "plt.hist(Udemy_Courses['num_subscribers'])"
   ]
  },
  {
   "cell_type": "code",
   "execution_count": 42,
   "metadata": {},
   "outputs": [
    {
     "data": {
      "text/plain": [
       "(array([3.655e+03, 1.100e+01, 7.000e+00, 2.000e+00, 2.000e+00, 1.000e+00,\n",
       "        1.000e+00, 1.000e+00, 1.000e+00, 1.000e+00]),\n",
       " array([    0. ,  2744.5,  5489. ,  8233.5, 10978. , 13722.5, 16467. ,\n",
       "        19211.5, 21956. , 24700.5, 27445. ]),\n",
       " <BarContainer object of 10 artists>)"
      ]
     },
     "execution_count": 42,
     "metadata": {},
     "output_type": "execute_result"
    },
    {
     "data": {
      "image/png": "[encoded data removed]",
      "text/plain": [
       "<Figure size 432x288 with 1 Axes>"
      ]
     },
     "metadata": {
      "needs_background": "light"
     },
     "output_type": "display_data"
    }
   ],
   "source": [
    "plt.hist(Udemy_Courses['num_reviews'])"
   ]
  },
  {
   "cell_type": "code",
   "execution_count": 43,
   "metadata": {},
   "outputs": [
    {
     "data": {
      "text/plain": [
       "(array([3.275e+03, 3.030e+02, 5.500e+01, 2.100e+01, 1.600e+01, 7.000e+00,\n",
       "        4.000e+00, 0.000e+00, 0.000e+00, 1.000e+00]),\n",
       " array([  0. ,  77.9, 155.8, 233.7, 311.6, 389.5, 467.4, 545.3, 623.2,\n",
       "        701.1, 779. ]),\n",
       " <BarContainer object of 10 artists>)"
      ]
     },
     "execution_count": 43,
     "metadata": {},
     "output_type": "execute_result"
    },
    {
     "data": {
      "image/png": "[encoded data removed]",
      "text/plain": [
       "<Figure size 432x288 with 1 Axes>"
      ]
     },
     "metadata": {
      "needs_background": "light"
     },
     "output_type": "display_data"
    }
   ],
   "source": [
    "plt.hist(Udemy_Courses['num_lectures'])"
   ]
  },
  {
   "cell_type": "code",
   "execution_count": 45,
   "metadata": {},
   "outputs": [
    {
     "name": "stdout",
     "output_type": "stream",
     "text": [
      "                 num_subscribers  num_reviews  num_lectures\n",
      "num_subscribers         1.000000     0.649957      0.157929\n",
      "num_reviews             0.649957     1.000000      0.243083\n",
      "num_lectures            0.157929     0.243083      1.000000\n"
     ]
    }
   ],
   "source": [
    "#find the correlation between numeric columns \n",
    "matrix=Udemy_Courses[['num_subscribers','num_reviews','num_lectures']].corr()\n",
    "print(matrix)"
   ]
  },
  {
   "cell_type": "code",
   "execution_count": 68,
   "metadata": {},
   "outputs": [
    {
     "name": "stdout",
     "output_type": "stream",
     "text": [
      "subject\n",
      "Web Development        1200\n",
      "Business Finance       1199\n",
      "Musical Instruments     680\n",
      "Graphic Design          603\n",
      "Name: course_id, dtype: int64\n"
     ]
    }
   ],
   "source": [
    "#How many courses for each subject is udemy offering?\n",
    "S_count=Udemy_Courses.groupby(['subject'])['course_id'].count().sort_values(ascending=False)\n",
    "print(S_count)"
   ]
  },
  {
   "cell_type": "code",
   "execution_count": 69,
   "metadata": {},
   "outputs": [
    {
     "data": {
      "text/plain": [
       "<AxesSubplot:xlabel='subject'>"
      ]
     },
     "execution_count": 69,
     "metadata": {},
     "output_type": "execute_result"
    },
    {
     "data": {
      "image/png": "[encoded data removed]",
      "text/plain": [
       "<Figure size 432x288 with 1 Axes>"
      ]
     },
     "metadata": {
      "needs_background": "light"
     },
     "output_type": "display_data"
    }
   ],
   "source": [
    "S_count.plot.bar()"
   ]
  },
  {
   "cell_type": "code",
   "execution_count": 70,
   "metadata": {},
   "outputs": [
    {
     "name": "stdout",
     "output_type": "stream",
     "text": [
      "subject\n",
      "Web Development    1200\n",
      "Name: course_id, dtype: int64\n"
     ]
    }
   ],
   "source": [
    "# Which subject has the maximum number of Courses\n",
    "print(S_count.head(1))"
   ]
  },
  {
   "cell_type": "code",
   "execution_count": 77,
   "metadata": {},
   "outputs": [
    {
     "name": "stdout",
     "output_type": "stream",
     "text": [
      "subject\n",
      "Web Development        133\n",
      "Business Finance        96\n",
      "Musical Instruments     46\n",
      "Graphic Design          35\n",
      "Name: course_id, dtype: int64\n"
     ]
    }
   ],
   "source": [
    "# how many free courses are available for every subject\n",
    "free_courses=Udemy_Courses[Udemy_Courses['price']==0].groupby('subject')['course_id'].count().sort_values(ascending=False)\n",
    "print(free_courses)"
   ]
  },
  {
   "cell_type": "code",
   "execution_count": null,
   "metadata": {},
   "outputs": [],
   "source": []
  },
  {
   "cell_type": "code",
   "execution_count": null,
   "metadata": {},
   "outputs": [],
   "source": []
  }
 ],
 "metadata": {
  "kernelspec": {
   "display_name": "Python 3",
   "language": "python",
   "name": "python3"
  },
  "language_info": {
   "codemirror_mode": {
    "name": "ipython",
    "version": 3
   },
   "file_extension": ".py",
   "mimetype": "text/x-python",
   "name": "python",
   "nbconvert_exporter": "python",
   "pygments_lexer": "ipython3",
   "version": "3.8.5"
  }
 },
 "nbformat": 4,
 "nbformat_minor": 4
}
